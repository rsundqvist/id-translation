{
 "cells": [
  {
   "cell_type": "markdown",
   "id": "93a678fb-4a20-4598-80cf-80d269c07d7f",
   "metadata": {},
   "source": [
    "# Translating `dict` keys\n",
    "\n",
    "**NOTE**: For convenience, we'll use a dummy fetcher used [for testing](https://github.com/rsundqvist/id-translation/blob/master/src/id_translation/testing.py#L47) to generate translation data instead of fetching real translations. Generated data is on the form `<placeholder-name>-of-<id>`, eg `'placeholder0-of-id0'`.\n",
    "\n",
    "Since we use `fmt='{x}, {y}'`, translated values will take form `'x-of-<id>, y-of-<id>'`."
   ]
  },
  {
   "cell_type": "code",
   "execution_count": 1,
   "id": "62173765-876a-4531-b099-2e78e7b81700",
   "metadata": {
    "execution": {
     "iopub.execute_input": "2025-07-20T15:46:56.930288Z",
     "iopub.status.busy": "2025-07-20T15:46:56.930109Z",
     "iopub.status.idle": "2025-07-20T15:46:57.613542Z",
     "shell.execute_reply": "2025-07-20T15:46:57.613028Z",
     "shell.execute_reply.started": "2025-07-20T15:46:56.930276Z"
    },
    "tags": []
   },
   "outputs": [
    {
     "name": "stderr",
     "output_type": "stream",
     "text": [
      "/tmp/ipykernel_58333/1782748667.py:3: UserWarning: No fetcher given. Translation data will be automatically generated.\n",
      "  t = Translator(fmt=\"{x}, {y}\")\n"
     ]
    }
   ],
   "source": [
    "from id_translation import Translator\n",
    "\n",
    "t = Translator(fmt=\"{x}, {y}\")"
   ]
  },
  {
   "cell_type": "markdown",
   "id": "f43fae58-1a87-4a1b-beef-11e485b5b681",
   "metadata": {},
   "source": [
    "## Dummy data"
   ]
  },
  {
   "cell_type": "code",
   "execution_count": 2,
   "id": "199ef70c-758c-403a-9613-b4a2d2915fbd",
   "metadata": {
    "execution": {
     "iopub.execute_input": "2025-07-20T15:46:57.614503Z",
     "iopub.status.busy": "2025-07-20T15:46:57.614189Z",
     "iopub.status.idle": "2025-07-20T15:46:57.619776Z",
     "shell.execute_reply": "2025-07-20T15:46:57.619217Z",
     "shell.execute_reply.started": "2025-07-20T15:46:57.614486Z"
    }
   },
   "outputs": [
    {
     "data": {
      "text/plain": [
       "dict_keys(['k0', 'k1', 'k2', 'k3'])"
      ]
     },
     "execution_count": 2,
     "metadata": {},
     "output_type": "execute_result"
    }
   ],
   "source": [
    "a_dict = {f\"k{i}\": i for i in range(4)}\n",
    "a_dict.keys()"
   ]
  },
  {
   "cell_type": "markdown",
   "id": "201e3e16-377f-47bb-a269-9041cb2fbbce",
   "metadata": {},
   "source": [
    "## Translation\n",
    "By default, the keys of `a_dict` would be used as the names. The `Translator` doesn't know what to do with a `dict_keys`-object, and will raise an error if we give it one.\n",
    "\n",
    "The solution is to convert the keys to a known type, then construct a dict with the new keys."
   ]
  },
  {
   "cell_type": "code",
   "execution_count": 3,
   "id": "bdce0756-5865-47ca-980d-ccc2af9a92ea",
   "metadata": {
    "execution": {
     "iopub.execute_input": "2025-07-20T15:46:57.620432Z",
     "iopub.status.busy": "2025-07-20T15:46:57.620281Z",
     "iopub.status.idle": "2025-07-20T15:46:57.624888Z",
     "shell.execute_reply": "2025-07-20T15:46:57.624362Z",
     "shell.execute_reply.started": "2025-07-20T15:46:57.620421Z"
    },
    "tags": []
   },
   "outputs": [
    {
     "data": {
      "text/plain": [
       "{'x-of-k0, y-of-k0': 0,\n",
       " 'x-of-k1, y-of-k1': 1,\n",
       " 'x-of-k2, y-of-k2': 2,\n",
       " 'x-of-k3, y-of-k3': 3}"
      ]
     },
     "execution_count": 3,
     "metadata": {},
     "output_type": "execute_result"
    }
   ],
   "source": [
    "translated_keys = t.translate(list(a_dict), names=\"name\")\n",
    "{tk: a_dict[k] for k, tk in zip(a_dict, translated_keys)}"
   ]
  },
  {
   "cell_type": "markdown",
   "id": "2c8b5cdf-0338-43a5-befb-aad8a8f3c79f",
   "metadata": {},
   "source": [
    "We used a `list` here, but any supported _ordered_ type will work. Do not use a `set`, as this may shuffle the keys."
   ]
  },
  {
   "cell_type": "code",
   "execution_count": null,
   "id": "3018691c-adcf-4fce-8655-1167dee10e96",
   "metadata": {},
   "outputs": [],
   "source": []
  }
 ],
 "metadata": {
  "kernelspec": {
   "display_name": "id-translation-py3.11 [poetry]",
   "language": "python",
   "name": "rics.jupyter.id-translation-py3.11"
  },
  "language_info": {
   "codemirror_mode": {
    "name": "ipython",
    "version": 3
   },
   "file_extension": ".py",
   "mimetype": "text/x-python",
   "name": "python",
   "nbconvert_exporter": "python",
   "pygments_lexer": "ipython3",
   "version": "3.11.13"
  }
 },
 "nbformat": 4,
 "nbformat_minor": 5
}
