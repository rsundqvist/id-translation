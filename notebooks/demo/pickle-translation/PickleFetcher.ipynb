{
 "cells": [
  {
   "cell_type": "markdown",
   "id": "e186ded6-87a3-440b-8467-dd2b8aa2cbc6",
   "metadata": {},
   "source": [
    "# Fetching data using `PandasFetcher`\n",
    "Translating using pickle files."
   ]
  },
  {
   "cell_type": "code",
   "execution_count": 1,
   "id": "96a95da6-8332-4eb1-a5eb-45cd433f649d",
   "metadata": {
    "execution": {
     "iopub.execute_input": "2025-07-20T16:26:35.794542Z",
     "iopub.status.busy": "2025-07-20T16:26:35.793851Z",
     "iopub.status.idle": "2025-07-20T16:26:36.594737Z",
     "shell.execute_reply": "2025-07-20T16:26:36.594080Z",
     "shell.execute_reply.started": "2025-07-20T16:26:35.794515Z"
    },
    "tags": []
   },
   "outputs": [
    {
     "name": "stdout",
     "output_type": "stream",
     "text": [
      "id_translation.__version__='0.15.0.dev1'\n",
      "sys.version='3.11.13 (main, Jun  4 2025, 08:57:30) [GCC 13.3.0]'\n",
      "👻 Configured some stuff just the way I like it!\n"
     ]
    }
   ],
   "source": [
    "import sys\n",
    "\n",
    "import rics\n",
    "\n",
    "import id_translation\n",
    "\n",
    "# Print relevant versions\n",
    "print(f\"{id_translation.__version__=}\")\n",
    "print(f\"{sys.version=}\")\n",
    "rics.configure_stuff(id_translation_level=\"DEBUG\")"
   ]
  },
  {
   "cell_type": "markdown",
   "id": "7863f401-2150-44e5-bf62-06e6ac249e09",
   "metadata": {},
   "source": [
    "## Make local Pickle files\n",
    "We'll download data from https://datasets.imdbws.com and clean it to make sure all values are given."
   ]
  },
  {
   "cell_type": "code",
   "execution_count": 2,
   "id": "2f4a030e-0a9c-432d-bacd-9d157366e8ca",
   "metadata": {
    "execution": {
     "iopub.execute_input": "2025-07-20T16:26:36.595683Z",
     "iopub.status.busy": "2025-07-20T16:26:36.595373Z",
     "iopub.status.idle": "2025-07-20T16:26:36.600375Z",
     "shell.execute_reply": "2025-07-20T16:26:36.599609Z",
     "shell.execute_reply.started": "2025-07-20T16:26:36.595667Z"
    },
    "tags": []
   },
   "outputs": [],
   "source": [
    "sources = [\"name.basics\", \"title.basics\"]"
   ]
  },
  {
   "cell_type": "code",
   "execution_count": 3,
   "id": "a891db10-da77-44bd-9f43-2756cf12c14c",
   "metadata": {
    "execution": {
     "iopub.execute_input": "2025-07-20T16:26:36.601800Z",
     "iopub.status.busy": "2025-07-20T16:26:36.601073Z",
     "iopub.status.idle": "2025-07-20T16:26:36.835653Z",
     "shell.execute_reply": "2025-07-20T16:26:36.833826Z",
     "shell.execute_reply.started": "2025-07-20T16:26:36.601779Z"
    },
    "tags": []
   },
   "outputs": [
    {
     "name": "stderr",
     "output_type": "stream",
     "text": [
      "2025-07-20T16:26:36.659 [rics.utility.misc.get_local_or_remote:INFO] Local processed file path: '/home/dev/.id-translation/notebooks/cache/clean_and_fix_ids/name.basics.tsv.pkl'.\n",
      "2025-07-20T16:26:36.786 [rics.utility.misc.get_local_or_remote:INFO] Local processed file path: '/home/dev/.id-translation/notebooks/cache/clean_and_fix_ids/title.basics.tsv.pkl'.\n"
     ]
    }
   ],
   "source": [
    "from data import load_imdb\n",
    "\n",
    "for dataset in sources:\n",
    "    load_imdb(dataset)"
   ]
  },
  {
   "cell_type": "markdown",
   "id": "0e6e444c-365b-402d-b166-d6c23361cdde",
   "metadata": {},
   "source": [
    "## Create translator from config\n",
    "Click [here](config.toml) to see the file."
   ]
  },
  {
   "cell_type": "code",
   "execution_count": 4,
   "id": "3be58de5-3ff5-4293-91cb-f75f9c32865f",
   "metadata": {
    "execution": {
     "iopub.execute_input": "2025-07-20T16:26:36.836917Z",
     "iopub.status.busy": "2025-07-20T16:26:36.836631Z",
     "iopub.status.idle": "2025-07-20T16:26:36.854981Z",
     "shell.execute_reply": "2025-07-20T16:26:36.853766Z",
     "shell.execute_reply.started": "2025-07-20T16:26:36.836901Z"
    },
    "tags": []
   },
   "outputs": [
    {
     "name": "stderr",
     "output_type": "stream",
     "text": [
      "2025-07-20T16:26:36.849 [id_translation.fetching:DEBUG] Derived read_function='pandas.read_pickle' based on suffix='.pkl' found in read_path_format='~/.id-translation/notebooks/cache/clean_and_fix_ids/{}.tsv.pkl'.\n"
     ]
    }
   ],
   "source": [
    "from id_translation import Translator\n",
    "\n",
    "translator = Translator.from_config(\"config.toml\")"
   ]
  },
  {
   "cell_type": "code",
   "execution_count": 5,
   "id": "e67c42b2-0c84-42a3-b05c-d3bdad5e6371",
   "metadata": {
    "execution": {
     "iopub.execute_input": "2025-07-20T16:26:36.856240Z",
     "iopub.status.busy": "2025-07-20T16:26:36.855870Z",
     "iopub.status.idle": "2025-07-20T16:26:37.072609Z",
     "shell.execute_reply": "2025-07-20T16:26:37.071160Z",
     "shell.execute_reply.started": "2025-07-20T16:26:36.856219Z"
    }
   },
   "outputs": [
    {
     "name": "stderr",
     "output_type": "stream",
     "text": [
      "2025-07-20T16:26:36.861 [id_translation.fetching:DEBUG] Path pattern='~/.id-translation/notebooks/cache/clean_and_fix_ids/*.tsv.pkl' matched 2 files: {'name.basics': '~/.id-translation/notebooks/cache/clean_and_fix_ids/name.basics.tsv.pkl', 'title.basics': '~/.id-translation/notebooks/cache/clean_and_fix_ids/title.basics.tsv.pkl'}\n",
      "2025-07-20T16:26:37.062 [id_translation.fetching:INFO] Finished initialization of 'PandasFetcher' in 205 ms: PandasFetcher(sources=['name.basics', 'title.basics'])\n"
     ]
    },
    {
     "data": {
      "text/plain": [
       "Translator(online=True: fetcher=PandasFetcher(sources=['name.basics', 'title.basics']))"
      ]
     },
     "execution_count": 5,
     "metadata": {},
     "output_type": "execute_result"
    }
   ],
   "source": [
    "translator.initialize_sources()"
   ]
  },
  {
   "cell_type": "code",
   "execution_count": 6,
   "id": "2cd2c5f3-b624-4578-bd44-4ceddc16af3e",
   "metadata": {
    "execution": {
     "iopub.execute_input": "2025-07-20T16:26:37.074918Z",
     "iopub.status.busy": "2025-07-20T16:26:37.074506Z",
     "iopub.status.idle": "2025-07-20T16:26:37.872630Z",
     "shell.execute_reply": "2025-07-20T16:26:37.871525Z",
     "shell.execute_reply.started": "2025-07-20T16:26:37.074887Z"
    }
   },
   "outputs": [
    {
     "name": "stderr",
     "output_type": "stream",
     "text": [
      "2025-07-20T16:26:37.076 [id_translation.Translator:DEBUG] Begin going offline with 2 sources provided by: PandasFetcher(sources=['name.basics', 'title.basics'])\n",
      "2025-07-20T16:26:37.079 [id_translation.fetching:DEBUG] Begin fetching all IDs for placeholders=('id', 'name', 'original_name', 'from', 'to') for 2/2: ['name.basics', 'title.basics'].\n",
      "2025-07-20T16:26:37.080 [id_translation.fetching:DEBUG] Begin mapping of wanted placeholders={'from', 'id', 'name', 'to'} to actual placeholders={'primaryProfession', 'int_id_nconst', 'deathYear', 'nconst', 'primaryName', 'knownForTitles', 'birthYear'} for source='name.basics'.\n",
      "2025-07-20T16:26:37.085 [id_translation.fetching.map:DEBUG] Computed 4x7 match scores in context='name.basics' in 142 μs:\n",
      "candidates  primaryProfession  int_id_nconst  deathYear  nconst  primaryName  knownForTitles  birthYear\n",
      "values                                                                                                 \n",
      "from                     -inf           -inf       -inf    -inf         -inf            -inf        inf\n",
      "id                       -inf           -inf       -inf     inf         -inf            -inf       -inf\n",
      "name                     -inf           -inf       -inf    -inf          inf            -inf       -inf\n",
      "to                       -inf           -inf        inf    -inf         -inf            -inf       -inf\n",
      "2025-07-20T16:26:37.087 [id_translation.fetching:DEBUG] Finished placeholder mapping for source='name.basics': {'name': 'primaryName', 'id': 'nconst', 'from': 'birthYear', 'to': 'deathYear'}.\n",
      "2025-07-20T16:26:37.088 [id_translation.fetching:DEBUG] Begin mapping of wanted placeholders={'from', 'id', 'name', 'to'} to actual placeholders={'endYear', 'genres', 'originalTitle', 'isAdult', 'primaryTitle', 'runtimeMinutes', 'titleType', 'startYear', 'int_id_tconst', 'tconst'} for source='title.basics'.\n",
      "2025-07-20T16:26:37.092 [id_translation.fetching.map:DEBUG] Computed 4x10 match scores in context='title.basics' in 100 μs:\n",
      "candidates  endYear  genres  originalTitle  isAdult  primaryTitle  runtimeMinutes  titleType  startYear  int_id_tconst  tconst\n",
      "values                                                                                                                        \n",
      "from           -inf    -inf           -inf     -inf          -inf            -inf       -inf        inf           -inf    -inf\n",
      "id             -inf    -inf           -inf     -inf          -inf            -inf       -inf       -inf           -inf     inf\n",
      "name           -inf    -inf           -inf     -inf           inf            -inf       -inf       -inf           -inf    -inf\n",
      "to              inf    -inf           -inf     -inf          -inf            -inf       -inf       -inf           -inf    -inf\n",
      "2025-07-20T16:26:37.093 [id_translation.fetching:DEBUG] Finished placeholder mapping for source='title.basics': {'name': 'primaryTitle', 'id': 'tconst', 'from': 'startYear', 'to': 'endYear'}.\n",
      "2025-07-20T16:26:37.096 [id_translation.fetching:DEBUG] Begin mapping of wanted placeholders={'to', 'name', 'original_name', 'id', 'from'} to actual placeholders={'primaryProfession', 'int_id_nconst', 'deathYear', 'nconst', 'primaryName', 'knownForTitles', 'birthYear'} for source='name.basics'.\n",
      "2025-07-20T16:26:37.100 [id_translation.fetching.map:DEBUG] Computed 5x7 match scores in context='name.basics' in 272 μs:\n",
      "candidates     primaryProfession  int_id_nconst  deathYear  nconst  primaryName  knownForTitles  birthYear\n",
      "values                                                                                                    \n",
      "to                          -inf           -inf        inf    -inf         -inf            -inf       -inf\n",
      "name                        -inf           -inf       -inf    -inf          inf            -inf       -inf\n",
      "original_name               0.02           0.08       0.02   -0.00         0.18           -0.01      -0.01\n",
      "id                          -inf           -inf       -inf     inf         -inf            -inf       -inf\n",
      "from                        -inf           -inf       -inf    -inf         -inf            -inf        inf\n",
      "2025-07-20T16:26:37.102 [id_translation.fetching:DEBUG] Finished placeholder mapping for source='name.basics': {'from': 'birthYear', 'id': 'nconst', 'name': 'primaryName', 'to': 'deathYear', 'original_name': None}.\n",
      "2025-07-20T16:26:37.103 [id_translation.fetching:DEBUG] Begin fetching all IDs from source='name.basics'. Placeholders: ('deathYear', 'primaryName', 'nconst', 'birthYear')\n",
      "2025-07-20T16:26:37.636 [id_translation.fetching:DEBUG] Finished fetching 199200 IDs from source='name.basics' in 0.53 sec. Placeholders: ('nconst', 'primaryName', 'birthYear', 'deathYear', 'primaryProfession', 'knownForTitles', 'int_id_nconst').\n",
      "2025-07-20T16:26:37.637 [id_translation.fetching:DEBUG] Begin mapping of wanted placeholders={'to', 'name', 'original_name', 'id', 'from'} to actual placeholders={'endYear', 'genres', 'originalTitle', 'isAdult', 'primaryTitle', 'runtimeMinutes', 'titleType', 'startYear', 'int_id_tconst', 'tconst'} for source='title.basics'.\n",
      "2025-07-20T16:26:37.642 [id_translation.fetching.map:DEBUG] Computed 5x10 match scores in context='title.basics' in 100 μs:\n",
      "candidates     endYear  genres  originalTitle  isAdult  primaryTitle  runtimeMinutes  titleType  startYear  int_id_tconst  tconst\n",
      "values                                                                                                                           \n",
      "to                 inf    -inf           -inf     -inf          -inf            -inf       -inf       -inf           -inf    -inf\n",
      "name              -inf    -inf           -inf     -inf           inf            -inf       -inf       -inf           -inf    -inf\n",
      "original_name     -inf    -inf            inf     -inf          -inf            -inf       -inf       -inf           -inf    -inf\n",
      "id                -inf    -inf           -inf     -inf          -inf            -inf       -inf       -inf           -inf     inf\n",
      "from              -inf    -inf           -inf     -inf          -inf            -inf       -inf        inf           -inf    -inf\n",
      "2025-07-20T16:26:37.643 [id_translation.fetching:DEBUG] Finished placeholder mapping for source='title.basics': {'to': 'endYear', 'name': 'primaryTitle', 'original_name': 'originalTitle', 'id': 'tconst', 'from': 'startYear'}.\n",
      "2025-07-20T16:26:37.644 [id_translation.fetching:DEBUG] Begin fetching all IDs from source='title.basics'. Placeholders: ('endYear', 'primaryTitle', 'originalTitle', 'tconst', 'startYear')\n",
      "2025-07-20T16:26:37.863 [id_translation.fetching:DEBUG] Finished fetching 64264 IDs from source='title.basics' in 219 ms. Placeholders: ('tconst', 'titleType', 'primaryTitle', 'originalTitle', 'isAdult', 'startYear', 'endYear', 'runtimeMinutes', 'genres', 'int_id_tconst').\n",
      "2025-07-20T16:26:37.864 [id_translation.fetching:INFO] Finished fetching all IDs from 2/2 sources in 0.79 sec: ['name.basics' x ('id', 'name', 'from', 'to', 'primaryProfession', 'knownForTitles', 'int_id_nconst') x 199200 IDs], ['title.basics' x ('id', 'titleType', 'name', 'original_name', 'isAdult', 'from', 'to', 'runtimeMinutes', 'genres', 'int_id_tconst') x 64264 IDs].\n",
      "2025-07-20T16:26:37.865 [id_translation.Translator:INFO] Went offline with 2 sources in 0.79 sec: TranslationMap('name.basics': 199200 IDs, 'title.basics': 64264 IDs).\n"
     ]
    },
    {
     "data": {
      "text/plain": [
       "Translator(online=False: cache=TranslationMap('name.basics': 199200 IDs, 'title.basics': 64264 IDs))"
      ]
     },
     "execution_count": 6,
     "metadata": {},
     "output_type": "execute_result"
    }
   ],
   "source": [
    "translator.go_offline()"
   ]
  },
  {
   "cell_type": "code",
   "execution_count": 7,
   "id": "96bc9fd2-3c20-49b4-80cb-57b60467595d",
   "metadata": {
    "execution": {
     "iopub.execute_input": "2025-07-20T16:26:37.873922Z",
     "iopub.status.busy": "2025-07-20T16:26:37.873730Z",
     "iopub.status.idle": "2025-07-20T16:26:38.453366Z",
     "shell.execute_reply": "2025-07-20T16:26:38.452502Z",
     "shell.execute_reply.started": "2025-07-20T16:26:37.873910Z"
    },
    "tags": []
   },
   "outputs": [
    {
     "name": "stdout",
     "output_type": "stream",
     "text": [
      "Translations for source='name.basics';\n",
      "    'nm0000001' -> 'nm0000001:Fred Astaire *1899†1987'\n",
      "    'nm0000002' -> 'nm0000002:Lauren Bacall *1924†2014'\n",
      "    'nm0000004' -> 'nm0000004:John Belushi *1949†1982'\n",
      "Translations for source='title.basics';\n",
      "    'tt0038276' -> 'tt0038276:You Are an Artist (original: You Are an Artist) *1946†1955'\n",
      "    'tt0039120' -> 'tt0039120:Americana (original: Americana) *1947†1949'\n",
      "    'tt0039121' -> 'tt0039121:Birthday Party (original: Birthday Party) *1947†1949'\n"
     ]
    }
   ],
   "source": [
    "tmap = translator.cache\n",
    "for source in tmap:\n",
    "    translations = tmap[source]\n",
    "    print(f\"Translations for {source=};\")\n",
    "    for i, (idx, translation) in enumerate(tmap[source].items()):\n",
    "        print(f\"    {repr(idx)} -> {repr(translation)}\")\n",
    "        if i == 2:\n",
    "            break"
   ]
  },
  {
   "cell_type": "code",
   "execution_count": null,
   "id": "d45f92f0-6807-4dd7-85c9-067c3b42cb72",
   "metadata": {},
   "outputs": [],
   "source": []
  }
 ],
 "metadata": {
  "kernelspec": {
   "display_name": "id-translation-py3.11 [poetry]",
   "language": "python",
   "name": "rics.jupyter.id-translation-py3.11"
  },
  "language_info": {
   "codemirror_mode": {
    "name": "ipython",
    "version": 3
   },
   "file_extension": ".py",
   "mimetype": "text/x-python",
   "name": "python",
   "nbconvert_exporter": "python",
   "pygments_lexer": "ipython3",
   "version": "3.11.13"
  }
 },
 "nbformat": 4,
 "nbformat_minor": 5
}
